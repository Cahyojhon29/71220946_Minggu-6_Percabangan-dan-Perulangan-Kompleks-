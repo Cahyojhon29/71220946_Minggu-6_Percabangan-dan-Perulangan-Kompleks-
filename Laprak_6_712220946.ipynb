{
  "nbformat": 4,
  "nbformat_minor": 0,
  "metadata": {
    "colab": {
      "provenance": []
    },
    "kernelspec": {
      "name": "python3",
      "display_name": "Python 3"
    },
    "language_info": {
      "name": "python"
    }
  },
  "cells": [
    {
      "cell_type": "code",
      "execution_count": 1,
      "metadata": {
        "colab": {
          "base_uri": "https://localhost:8080/"
        },
        "id": "lEBsBjaJuS-o",
        "outputId": "4484a827-2868-43f9-a308-995fdbcd9ef7"
      },
      "outputs": [
        {
          "output_type": "stream",
          "name": "stdout",
          "text": [
            "Masukkan bilangan: 21\n",
            "Bilangan prima terdekat < 21 adalah 19\n"
          ]
        }
      ],
      "source": [
        "def is_prime(number):\n",
        "    if number < 2:\n",
        "        return False\n",
        "    for i in range(2, int(number ** 0.5) + 1):\n",
        "        if number % i == 0:\n",
        "            return False\n",
        "    return True\n",
        "\n",
        "def find_closest_prime(number):\n",
        "    prime = number - 1\n",
        "    while not is_prime(prime):\n",
        "        prime -= 1\n",
        "    return prime\n",
        "\n",
        "bilangan = int(input(\"Masukkan bilangan: \"))\n",
        "prima = find_closest_prime(bilangan)\n",
        "print(f\"Bilangan prima terdekat < {bilangan} adalah {prima}\")\n"
      ]
    },
    {
      "cell_type": "code",
      "source": [
        "n = int(input(\"Masukkan n = \"))\n",
        "for i in range(n, 0, -1):\n",
        "    hasil = 1\n",
        "    for j in range(i, 0, -1):\n",
        "        hasil *= j\n",
        "    print(hasil, end=' ')\n",
        "    for k in range(i, 0, -1):\n",
        "        print(k, end=' ')\n",
        "    print()"
      ],
      "metadata": {
        "colab": {
          "base_uri": "https://localhost:8080/"
        },
        "id": "zDcXK-4zuf1W",
        "outputId": "d2a00605-1651-4257-f841-8b4ed8f23bd8"
      },
      "execution_count": 2,
      "outputs": [
        {
          "output_type": "stream",
          "name": "stdout",
          "text": [
            "Masukkan n = 6\n",
            "720 6 5 4 3 2 1 \n",
            "120 5 4 3 2 1 \n",
            "24 4 3 2 1 \n",
            "6 3 2 1 \n",
            "2 2 1 \n",
            "1 1 \n"
          ]
        }
      ]
    },
    {
      "cell_type": "code",
      "source": [
        "tinggi = int(input('Masukkan tinggi = '))\n",
        "lebar = int(input('Masukkan lebar = '))\n",
        "\n",
        "for i in range(tinggi):\n",
        "    for j in range(lebar):\n",
        "        print(i * lebar + j + 1, end=' ')\n",
        "    print()\n"
      ],
      "metadata": {
        "colab": {
          "base_uri": "https://localhost:8080/"
        },
        "id": "n8zfRmIOu8xR",
        "outputId": "357013b6-9ab3-48ca-944d-bacf2a3149ff"
      },
      "execution_count": 3,
      "outputs": [
        {
          "output_type": "stream",
          "name": "stdout",
          "text": [
            "Masukkan tinggi = 5\n",
            "Masukkan lebar = 4\n",
            "1 2 3 4 \n",
            "5 6 7 8 \n",
            "9 10 11 12 \n",
            "13 14 15 16 \n",
            "17 18 19 20 \n"
          ]
        }
      ]
    }
  ]
}